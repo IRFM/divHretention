{
 "metadata": {
  "language_info": {
   "codemirror_mode": {
    "name": "ipython",
    "version": 3
   },
   "file_extension": ".py",
   "mimetype": "text/x-python",
   "name": "python",
   "nbconvert_exporter": "python",
   "pygments_lexer": "ipython3",
   "version": "3.8.3-final"
  },
  "orig_nbformat": 2,
  "kernelspec": {
   "name": "python3",
   "display_name": "Python 3.8.3 64-bit",
   "metadata": {
    "interpreter": {
     "hash": "dd9701bbf364f819dfb89d6bed1ea1983cfdfc0ddf02fa1f26f5c2afaccb1269"
    }
   }
  }
 },
 "nbformat": 4,
 "nbformat_minor": 2,
 "cells": [
  {
   "cell_type": "code",
   "execution_count": 1,
   "metadata": {},
   "outputs": [],
   "source": [
    "from main import compute_inventory\n",
    "\n",
    "filename = \"data/exposure_conditions_divertor/WEST/Hao/P1.0e21_wall_data.mat\"\n",
    "# filename = \"data/exposure_conditions_divertor/WEST/Julien/WPN54696-1.5MW-FESTIM_inputs.csv\"\n",
    "res = compute_inventory(filename)"
   ]
  }
 ]
}